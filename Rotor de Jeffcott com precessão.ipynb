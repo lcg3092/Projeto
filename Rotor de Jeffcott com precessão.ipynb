{
 "cells": [
  {
   "cell_type": "code",
   "execution_count": null,
   "metadata": {
    "collapsed": false
   },
   "outputs": [
    {
     "data": {
      "application/javascript": [
       "require.undef(\"nbextensions/vpython_libraries/jquery-ui.custom.min\");"
      ],
      "text/plain": [
       "<IPython.core.display.Javascript object>"
      ]
     },
     "metadata": {},
     "output_type": "display_data"
    },
    {
     "data": {
      "application/javascript": [
       "require.undef(\"nbextensions/vpython_libraries/glow.2.1.min\");"
      ],
      "text/plain": [
       "<IPython.core.display.Javascript object>"
      ]
     },
     "metadata": {},
     "output_type": "display_data"
    },
    {
     "data": {
      "application/javascript": [
       "require.undef(\"nbextensions/vpython_libraries/glowcomm\");"
      ],
      "text/plain": [
       "<IPython.core.display.Javascript object>"
      ]
     },
     "metadata": {},
     "output_type": "display_data"
    },
    {
     "data": {
      "application/javascript": [
       "require([\"nbextensions/vpython_libraries/jquery-ui.custom.min\"], function(){console.log(\"JQUERY LOADED\");})"
      ],
      "text/plain": [
       "<IPython.core.display.Javascript object>"
      ]
     },
     "metadata": {},
     "output_type": "display_data"
    },
    {
     "data": {
      "application/javascript": [
       "require([\"nbextensions/vpython_libraries/glow.2.1.min\"], function(){console.log(\"GLOW LOADED\");})"
      ],
      "text/plain": [
       "<IPython.core.display.Javascript object>"
      ]
     },
     "metadata": {},
     "output_type": "display_data"
    },
    {
     "data": {
      "application/javascript": [
       "require([\"nbextensions/vpython_libraries/glowcomm\"], function(){console.log(\"GLOWCOMM LOADED\");})"
      ],
      "text/plain": [
       "<IPython.core.display.Javascript object>"
      ]
     },
     "metadata": {},
     "output_type": "display_data"
    },
    {
     "data": {
      "text/html": [
       "<div id=\"glowscript\" class=\"glowscript\"></div>"
      ],
      "text/plain": [
       "<IPython.core.display.HTML object>"
      ]
     },
     "metadata": {},
     "output_type": "display_data"
    },
    {
     "data": {
      "application/javascript": [
       "window.__context = { glowscript_container: $(\"#glowscript\").removeAttr(\"id\")}"
      ],
      "text/plain": [
       "<IPython.core.display.Javascript object>"
      ]
     },
     "metadata": {},
     "output_type": "display_data"
    }
   ],
   "source": [
    "#importando os modulos\n",
    "import numpy as np\n",
    "import scipy.integrate as integrate\n",
    "import math\n",
    "from vpython import *\n",
    "import ipywidgets as wd\n",
    "\n",
    "\n",
    "#EDO\n",
    "def sub_edoRotorJeffcottSelo(z,t):\n",
    "    dz=[z[2],\n",
    "        z[3],\n",
    "    (-c*z[2]-k*z[0]+ m*(a*t)**2*u*math.cos(a*t**2/2) + m*a*u*sin(a*t**2/2))/m,\n",
    "    (-c*z[3]-2*k*z[1]+ m*(a*t)**2*u*math.sin(a*t**2/2) - m*a*u*cos(a*t**2/2))/m]\n",
    "    return dz\n",
    "\n",
    "\n",
    "# 1 Janela de visualizacao\n",
    "scene.width = 800\n",
    "scene.height = 600\n",
    "scene.background = color.white\n",
    "scene.center =vec(-10,-10,0)\n",
    "scene.forward = vector(-1,-1,-3)\n",
    "\n",
    "# 2 Butoes\n",
    "on = True\n",
    "BP = wd.Button(description='Pausar')\n",
    "BR = wd.Button(description='Resetar')\n",
    "FatorL = wd.FloatSlider(description='Fator deformacao', min=1, max=10, step=1, value=1)\n",
    "FatorT = wd.FloatSlider(description='Fator tempo', min=0.01, max=1, step=0.01, value=0.1)\n",
    "container = wd.HBox(children=[BP,BR,FatorL,FatorT])\n",
    "display(container)\n",
    "label1 = label(pos=vec(25,25,0), text='')\n",
    "label2 = label(pos=vec(25,30,0), text='')\n",
    "label3 = label(pos=vec(25,35,0), text='')\n",
    "def P_handler(s):\n",
    "    global on\n",
    "    on = not on\n",
    "    if s.description == 'Continuar': s.description = 'Pausar'\n",
    "    else: s.description = 'Continuar'\n",
    "BP.on_click(P_handler)\n",
    "\n",
    "def R_handler(s):\n",
    "    global j\n",
    "    j = 0\n",
    "BR.on_click(R_handler)\n",
    "\n",
    "\n",
    "\n",
    "\n",
    "# 3 Valores do sistema\n",
    "m=1\n",
    "L=1.6\n",
    "k=600\n",
    "wn=(k/m)**(1/2)\n",
    "ccrit=2*m*wn\n",
    "c=ccrit*0.1\n",
    "u=2\n",
    "Hz=10\n",
    "w=0\n",
    "a = wn/4\n",
    "#Condicoes iniciais\n",
    "x0=0\n",
    "y0=0\n",
    "dx0=0\n",
    "dy0=0\n",
    "i=[x0, y0, dx0, dy0]\n",
    "\n",
    "#Espaco de tempo a ser integrado\n",
    "tspan=np.linspace(0,10,10001)\n",
    "\n",
    "\n",
    "\n",
    "\n",
    "# 4 Integracao\n",
    "z=integrate.odeint(sub_edoRotorJeffcottSelo,i,tspan)\n",
    "\n",
    "\n",
    "\n",
    "\n",
    "# 5 animacao\n",
    "Vel=tspan*a/wn\n",
    "phi = np.power(tspan,2)*a/2\n",
    "velabs = tspan*a/(2*math.pi)\n",
    "za=(0,40,80)\n",
    "j =[[0.0, 0.0, 0.0], [0.0, 0.0, 80.0]]\n",
    "eixo = curve(pos=(j), radius=0.3)\n",
    "rotor = cylinder(pos=vector(0,0,40), axis=vector(0,0,1), radius=10)\n",
    "CM = cylinder(pos=vector(1,0,40), axis=vector(0,0,1), radius=-0.2, length=1.5)\n",
    "EixoX = arrow(pos=vector(-30,0,41),      axis=vector(60,0,0), shaftwidth=0.1, headwidth = 1, headlength = 1)\n",
    "EixoY = arrow(pos=vector(0,-30,41),      axis=vector(0,60,0), shaftwidth=0.1, headwidth = 1, headlength = 1)\n",
    "CM.color = vector(0,0,0)\n",
    "EixoX.color = vector(0,1,1)\n",
    "EixoY.color = vector(0,1,1)\n",
    "j=0\n",
    "while True:\n",
    "    rate(10)\n",
    "    if on and j<10001:\n",
    "        label1.text = 'Velocidade = %1.5f da frequencia natural'%Vel[j]\n",
    "        label2.text = 'tempo = %1.5f s'%tspan[j]\n",
    "        label3.text = 'Velocidade = %1.5f Hz'%velabs[j]\n",
    "        xa=(0,FatorL.value*z[j,0],0)\n",
    "        ya=(0,FatorL.value*z[j,1],0)\n",
    "        po=(xa,ya,50)\n",
    "        jn=[(xa[0],ya[0],za[0]),(0.19*xa[1],0.19*ya[1],0.05*za[2]),(0.36*xa[1],0.36*ya[1],0.1*za[2]),(0.51*xa[1],0.51*ya[1],0.15*za[2]),(0.64*xa[1],0.64*ya[1],0.2*za[2]),(0.75*xa[1],0.75*ya[1],0.25*za[2]),(0.84*xa[1],0.84*ya[1],0.3*za[2]),(0.91*xa[1],0.91*ya[1],0.35*za[2]),(0.96*xa[1],0.96*ya[1],0.4*za[2]),(0.99*xa[1],0.99*ya[1],0.45*za[2]),(xa[1],ya[1],0.5*za[2]),(0.99*xa[1],0.99*ya[1],0.55*za[2]),(0.96*xa[1],0.96*ya[1],0.6*za[2]),(0.91*xa[1],0.91*ya[1],0.65*za[2]),(0.84*xa[1],0.84*ya[1],0.7*za[2]),(0.75*xa[1],0.75*ya[1],0.75*za[2]),(0.64*xa[1],0.64*ya[1],0.8*za[2]),(0.51*xa[1],0.51*ya[1],0.85*za[2]),(0.36*xa[1],0.36*ya[1],0.9*za[2]),(0.19*xa[1],0.19*ya[1],0.95*za[2]),(xa[2],ya[2],za[2])]\n",
    "        eixo.visible=False\n",
    "        eixo = curve(pos=(jn), radius=0.3)\n",
    "        rotor.pos=vector(xa[1],ya[1],40)\n",
    "        CM.pos=vector(xa[1]+2*math.cos(phi[j]),ya[1]+2*math.sin(phi[j]),40)        \n",
    "        j+=int(FatorT.value*100)\n"
   ]
  },
  {
   "cell_type": "code",
   "execution_count": null,
   "metadata": {
    "collapsed": true
   },
   "outputs": [],
   "source": [
    "    "
   ]
  },
  {
   "cell_type": "code",
   "execution_count": null,
   "metadata": {
    "collapsed": true
   },
   "outputs": [],
   "source": []
  }
 ],
 "metadata": {
  "anaconda-cloud": {},
  "kernelspec": {
   "display_name": "VPython",
   "language": "python",
   "name": "vpython"
  },
  "language_info": {
   "codemirror_mode": {
    "name": "ipython",
    "version": 3
   },
   "file_extension": ".py",
   "mimetype": "text/x-python",
   "name": "python",
   "nbconvert_exporter": "python",
   "pygments_lexer": "ipython3",
   "version": "3.5.2"
  },
  "widgets": {
   "state": {
    "6767188e337f4e2699f2e73b5f1d285c": {
     "views": [
      {
       "cell_index": 0
      }
     ]
    }
   },
   "version": "1.2.0"
  }
 },
 "nbformat": 4,
 "nbformat_minor": 1
}
